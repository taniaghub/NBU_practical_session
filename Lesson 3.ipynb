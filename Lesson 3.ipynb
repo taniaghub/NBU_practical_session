{
 "cells": [
  {
   "cell_type": "markdown",
   "metadata": {},
   "source": [
    "# 1. Upload data"
   ]
  },
  {
   "cell_type": "markdown",
   "metadata": {},
   "source": [
    "1.1. Import modules "
   ]
  },
  {
   "cell_type": "code",
   "execution_count": 1,
   "metadata": {},
   "outputs": [],
   "source": [
    "# coding: utf-8\n",
    "import csv\n",
    "import pandas as pd\n",
    "import numpy as np"
   ]
  },
  {
   "cell_type": "markdown",
   "metadata": {},
   "source": [
    "1.2. Read csv-file and import data to dataframe with pandas "
   ]
  },
  {
   "cell_type": "code",
   "execution_count": 2,
   "metadata": {},
   "outputs": [
    {
     "name": "stdout",
     "output_type": "stream",
     "text": [
      "           good_name  price     category_full                       category  \\\n",
      "0    HAMMARN ХАММАРН   2699             Ліжка                   Дивани-ліжка   \n",
      "1  KNOPPARP КНОППАРП   2699  Дивани та крісла  Дивани з текстильною оббивкою   \n",
      "2  FRIHETEN ФРІХЕТЕН  13999             Ліжка                   Дивани-ліжка   \n",
      "3        KIVIK КІВІК  10999  Дивани та крісла  Дивани з текстильною оббивкою   \n",
      "4  FRIHETEN ФРІХЕТЕН  11999             Ліжка                   Дивани-ліжка   \n",
      "\n",
      "   category_int  product_id      tax        date currency country  \n",
      "0         20874    90354327   449.83  2021-02-23      uah      UA  \n",
      "1         10668    10424621   449.83  2021-02-23      uah      UA  \n",
      "2         20874    39216754  2333.16  2021-02-23      uah      UA  \n",
      "3         10670    99011429  1833.17  2021-02-23      uah      UA  \n",
      "4         20874    50341148  1999.83  2021-02-23      uah      UA  \n",
      "<class 'pandas.core.frame.DataFrame'>\n",
      "RangeIndex: 2647 entries, 0 to 2646\n",
      "Data columns (total 10 columns):\n",
      " #   Column         Non-Null Count  Dtype  \n",
      "---  ------         --------------  -----  \n",
      " 0   good_name      2647 non-null   object \n",
      " 1   price          2647 non-null   int64  \n",
      " 2   category_full  2647 non-null   object \n",
      " 3   category       2647 non-null   object \n",
      " 4   category_int   2647 non-null   int64  \n",
      " 5   product_id     2647 non-null   int64  \n",
      " 6   tax            2647 non-null   float64\n",
      " 7   date           2647 non-null   object \n",
      " 8   currency       2647 non-null   object \n",
      " 9   country        2647 non-null   object \n",
      "dtypes: float64(1), int64(3), object(6)\n",
      "memory usage: 206.9+ KB\n",
      "None\n"
     ]
    }
   ],
   "source": [
    "ua = pd.read_csv('/Users/tetianayukhymenko/Documents/Code/IKEA/ikea_2021-02-23ua.csv', index_col=False, header=0, delimiter=';')\n",
    "print (ua.head(5))\n",
    "print (ua.info())"
   ]
  },
  {
   "cell_type": "markdown",
   "metadata": {},
   "source": [
    "1.3. Set different data type"
   ]
  },
  {
   "cell_type": "markdown",
   "metadata": {},
   "source": [
    "- everything as object"
   ]
  },
  {
   "cell_type": "code",
   "execution_count": 3,
   "metadata": {},
   "outputs": [
    {
     "name": "stdout",
     "output_type": "stream",
     "text": [
      "           good_name  price     category_full                       category  \\\n",
      "0    HAMMARN ХАММАРН   2699             Ліжка                   Дивани-ліжка   \n",
      "1  KNOPPARP КНОППАРП   2699  Дивани та крісла  Дивани з текстильною оббивкою   \n",
      "2  FRIHETEN ФРІХЕТЕН  13999             Ліжка                   Дивани-ліжка   \n",
      "\n",
      "  category_int product_id      tax        date currency country  \n",
      "0        20874   90354327   449.83  2021-02-23      uah      UA  \n",
      "1        10668   10424621   449.83  2021-02-23      uah      UA  \n",
      "2        20874   39216754  2333.16  2021-02-23      uah      UA  \n",
      "<class 'pandas.core.frame.DataFrame'>\n",
      "RangeIndex: 2647 entries, 0 to 2646\n",
      "Data columns (total 10 columns):\n",
      " #   Column         Non-Null Count  Dtype \n",
      "---  ------         --------------  ----- \n",
      " 0   good_name      2647 non-null   object\n",
      " 1   price          2647 non-null   object\n",
      " 2   category_full  2647 non-null   object\n",
      " 3   category       2647 non-null   object\n",
      " 4   category_int   2647 non-null   object\n",
      " 5   product_id     2647 non-null   object\n",
      " 6   tax            2647 non-null   object\n",
      " 7   date           2647 non-null   object\n",
      " 8   currency       2647 non-null   object\n",
      " 9   country        2647 non-null   object\n",
      "dtypes: object(10)\n",
      "memory usage: 206.9+ KB\n",
      "None\n"
     ]
    }
   ],
   "source": [
    "ua = pd.read_csv('/Users/tetianayukhymenko/Documents/Code/IKEA/ikea_2021-02-23ua.csv', index_col=False, header=0, delimiter=';',dtype='object')\n",
    "print (ua.head(3))\n",
    "print (ua.info())"
   ]
  },
  {
   "cell_type": "markdown",
   "metadata": {},
   "source": [
    "- specify selected columns"
   ]
  },
  {
   "cell_type": "code",
   "execution_count": 4,
   "metadata": {},
   "outputs": [
    {
     "name": "stdout",
     "output_type": "stream",
     "text": [
      "           good_name  price     category_full                       category  \\\n",
      "0    HAMMARN ХАММАРН   2699             Ліжка                   Дивани-ліжка   \n",
      "1  KNOPPARP КНОППАРП   2699  Дивани та крісла  Дивани з текстильною оббивкою   \n",
      "2  FRIHETEN ФРІХЕТЕН  13999             Ліжка                   Дивани-ліжка   \n",
      "\n",
      "  category_int product_id      tax        date currency country  \n",
      "0        20874   90354327   449.83  2021-02-23      uah      UA  \n",
      "1        10668   10424621   449.83  2021-02-23      uah      UA  \n",
      "2        20874   39216754  2333.16  2021-02-23      uah      UA  \n",
      "<class 'pandas.core.frame.DataFrame'>\n",
      "RangeIndex: 2647 entries, 0 to 2646\n",
      "Data columns (total 10 columns):\n",
      " #   Column         Non-Null Count  Dtype  \n",
      "---  ------         --------------  -----  \n",
      " 0   good_name      2647 non-null   object \n",
      " 1   price          2647 non-null   int64  \n",
      " 2   category_full  2647 non-null   object \n",
      " 3   category       2647 non-null   object \n",
      " 4   category_int   2647 non-null   object \n",
      " 5   product_id     2647 non-null   object \n",
      " 6   tax            2647 non-null   float64\n",
      " 7   date           2647 non-null   object \n",
      " 8   currency       2647 non-null   object \n",
      " 9   country        2647 non-null   object \n",
      "dtypes: float64(1), int64(1), object(8)\n",
      "memory usage: 206.9+ KB\n",
      "None\n"
     ]
    }
   ],
   "source": [
    "ua = pd.read_csv('/Users/tetianayukhymenko/Documents/Code/IKEA/ikea_2021-02-23ua.csv', index_col=False, header=0, delimiter=';', dtype={'category_int':'object', 'product_id':'object'})\n",
    "print (ua.head(3))\n",
    "print (ua.info())"
   ]
  },
  {
   "cell_type": "markdown",
   "metadata": {},
   "source": [
    "- different approach for dates parsing"
   ]
  },
  {
   "cell_type": "code",
   "execution_count": 5,
   "metadata": {},
   "outputs": [
    {
     "name": "stdout",
     "output_type": "stream",
     "text": [
      "           good_name  price     category_full                       category  \\\n",
      "0    HAMMARN ХАММАРН   2699             Ліжка                   Дивани-ліжка   \n",
      "1  KNOPPARP КНОППАРП   2699  Дивани та крісла  Дивани з текстильною оббивкою   \n",
      "2  FRIHETEN ФРІХЕТЕН  13999             Ліжка                   Дивани-ліжка   \n",
      "\n",
      "  category_int product_id      tax       date currency country  \n",
      "0        20874   90354327   449.83 2021-02-23      uah      UA  \n",
      "1        10668   10424621   449.83 2021-02-23      uah      UA  \n",
      "2        20874   39216754  2333.16 2021-02-23      uah      UA  \n",
      "<class 'pandas.core.frame.DataFrame'>\n",
      "RangeIndex: 2647 entries, 0 to 2646\n",
      "Data columns (total 10 columns):\n",
      " #   Column         Non-Null Count  Dtype         \n",
      "---  ------         --------------  -----         \n",
      " 0   good_name      2647 non-null   object        \n",
      " 1   price          2647 non-null   int64         \n",
      " 2   category_full  2647 non-null   object        \n",
      " 3   category       2647 non-null   object        \n",
      " 4   category_int   2647 non-null   object        \n",
      " 5   product_id     2647 non-null   object        \n",
      " 6   tax            2647 non-null   float64       \n",
      " 7   date           2647 non-null   datetime64[ns]\n",
      " 8   currency       2647 non-null   object        \n",
      " 9   country        2647 non-null   object        \n",
      "dtypes: datetime64[ns](1), float64(1), int64(1), object(7)\n",
      "memory usage: 206.9+ KB\n",
      "None\n"
     ]
    }
   ],
   "source": [
    "from datetime import datetime\n",
    "dateparse = lambda x: datetime.strptime(x, '%Y-%m-%d') #set dates parser\n",
    "ua = pd.read_csv('/Users/tetianayukhymenko/Documents/Code/IKEA/ikea_2021-02-23ua.csv', index_col=False, header=0, delimiter=';', parse_dates=['date'], date_parser=dateparse,dtype={'category_int':'object', 'product_id':'object'})\n",
    "print (ua.head(3))\n",
    "print (ua.info())"
   ]
  },
  {
   "cell_type": "markdown",
   "metadata": {},
   "source": [
    "- change data type after file being uploaded. The simplest way to convert a pandas column of data to a different type is to use astype()\n",
    "https://pbpython.com/pandas_dtypes.html"
   ]
  },
  {
   "cell_type": "code",
   "execution_count": 6,
   "metadata": {},
   "outputs": [
    {
     "name": "stdout",
     "output_type": "stream",
     "text": [
      "           good_name    price     category_full  \\\n",
      "0    HAMMARN ХАММАРН   2699.0             Ліжка   \n",
      "1  KNOPPARP КНОППАРП   2699.0  Дивани та крісла   \n",
      "2  FRIHETEN ФРІХЕТЕН  13999.0             Ліжка   \n",
      "\n",
      "                        category category_int product_id      tax        date  \\\n",
      "0                   Дивани-ліжка        20874   90354327   449.83  2021-02-23   \n",
      "1  Дивани з текстильною оббивкою        10668   10424621   449.83  2021-02-23   \n",
      "2                   Дивани-ліжка        20874   39216754  2333.16  2021-02-23   \n",
      "\n",
      "  currency country  \n",
      "0      uah      UA  \n",
      "1      uah      UA  \n",
      "2      uah      UA  \n",
      "<class 'pandas.core.frame.DataFrame'>\n",
      "RangeIndex: 2647 entries, 0 to 2646\n",
      "Data columns (total 10 columns):\n",
      " #   Column         Non-Null Count  Dtype  \n",
      "---  ------         --------------  -----  \n",
      " 0   good_name      2647 non-null   object \n",
      " 1   price          2647 non-null   float64\n",
      " 2   category_full  2647 non-null   object \n",
      " 3   category       2647 non-null   object \n",
      " 4   category_int   2647 non-null   object \n",
      " 5   product_id     2647 non-null   object \n",
      " 6   tax            2647 non-null   float64\n",
      " 7   date           2647 non-null   object \n",
      " 8   currency       2647 non-null   object \n",
      " 9   country        2647 non-null   object \n",
      "dtypes: float64(2), object(8)\n",
      "memory usage: 206.9+ KB\n",
      "None\n"
     ]
    }
   ],
   "source": [
    "ua = pd.read_csv('/Users/tetianayukhymenko/Documents/Code/IKEA/ikea_2021-02-23ua.csv', index_col=False, header=0, delimiter=';',dtype='object')\n",
    "ua['price'] = ua['price'].astype('float') #converts object to numbers\n",
    "ua['tax'] = ua['tax'].astype('float') #converts object to numbers\n",
    "print (ua.head(3))\n",
    "print (ua.info())"
   ]
  },
  {
   "cell_type": "markdown",
   "metadata": {},
   "source": [
    "Astype() will only work if the data is clean and can be simply interpreted as a number. It doesn't work with dates"
   ]
  },
  {
   "cell_type": "markdown",
   "metadata": {},
   "source": [
    "- Date type can be converted simply using built in pandas functions such as pd.to_numeric() and pd.to_datetime()"
   ]
  },
  {
   "cell_type": "code",
   "execution_count": 7,
   "metadata": {},
   "outputs": [
    {
     "name": "stdout",
     "output_type": "stream",
     "text": [
      "           good_name  price     category_full                       category  \\\n",
      "0    HAMMARN ХАММАРН   2699             Ліжка                   Дивани-ліжка   \n",
      "1  KNOPPARP КНОППАРП   2699  Дивани та крісла  Дивани з текстильною оббивкою   \n",
      "2  FRIHETEN ФРІХЕТЕН  13999             Ліжка                   Дивани-ліжка   \n",
      "\n",
      "  category_int product_id      tax       date currency country  \n",
      "0        20874   90354327   449.83 2021-02-23      uah      UA  \n",
      "1        10668   10424621   449.83 2021-02-23      uah      UA  \n",
      "2        20874   39216754  2333.16 2021-02-23      uah      UA  \n",
      "<class 'pandas.core.frame.DataFrame'>\n",
      "RangeIndex: 2647 entries, 0 to 2646\n",
      "Data columns (total 10 columns):\n",
      " #   Column         Non-Null Count  Dtype         \n",
      "---  ------         --------------  -----         \n",
      " 0   good_name      2647 non-null   object        \n",
      " 1   price          2647 non-null   int64         \n",
      " 2   category_full  2647 non-null   object        \n",
      " 3   category       2647 non-null   object        \n",
      " 4   category_int   2647 non-null   object        \n",
      " 5   product_id     2647 non-null   object        \n",
      " 6   tax            2647 non-null   float64       \n",
      " 7   date           2647 non-null   datetime64[ns]\n",
      " 8   currency       2647 non-null   object        \n",
      " 9   country        2647 non-null   object        \n",
      "dtypes: datetime64[ns](1), float64(1), int64(1), object(7)\n",
      "memory usage: 206.9+ KB\n",
      "None\n"
     ]
    }
   ],
   "source": [
    "ua = pd.read_csv('/Users/tetianayukhymenko/Documents/Code/IKEA/ikea_2021-02-23ua.csv', index_col=False, header=0, delimiter=';',dtype='object')\n",
    "ua.date=pd.to_datetime(ua.date, errors='coerce') #converts object to date\n",
    "ua.price = pd.to_numeric(ua.price,errors='coerce') #converts object to numbers\n",
    "ua.tax = pd.to_numeric(ua.tax,errors='coerce') #converts object to numbers\n",
    "print (ua.head(3))\n",
    "print (ua.info())"
   ]
  },
  {
   "cell_type": "markdown",
   "metadata": {},
   "source": [
    "1.4. Import excel file"
   ]
  },
  {
   "cell_type": "code",
   "execution_count": 8,
   "metadata": {},
   "outputs": [
    {
     "name": "stdout",
     "output_type": "stream",
     "text": [
      "  currency       date         ER\n",
      "0      CZK 2021-01-21   1.307100\n",
      "1      EUR 2021-01-21  34.148800\n",
      "2      HUF 2021-01-21   0.095547\n",
      "<class 'pandas.core.frame.DataFrame'>\n",
      "RangeIndex: 48 entries, 0 to 47\n",
      "Data columns (total 3 columns):\n",
      " #   Column    Non-Null Count  Dtype         \n",
      "---  ------    --------------  -----         \n",
      " 0   currency  48 non-null     object        \n",
      " 1   date      48 non-null     datetime64[ns]\n",
      " 2   ER        48 non-null     float64       \n",
      "dtypes: datetime64[ns](1), float64(1), object(1)\n",
      "memory usage: 1.2+ KB\n",
      "None\n"
     ]
    }
   ],
   "source": [
    "er = pd.read_excel('/Users/tetianayukhymenko/Documents/Code/IKEA/ER.xlsx', index_col= False, header=0)\n",
    "print (er.head(3))\n",
    "print (er.info())"
   ]
  },
  {
   "cell_type": "markdown",
   "metadata": {},
   "source": [
    "# 2. Upload list of files"
   ]
  },
  {
   "cell_type": "markdown",
   "metadata": {},
   "source": [
    "2.1. Import modules"
   ]
  },
  {
   "cell_type": "code",
   "execution_count": 9,
   "metadata": {},
   "outputs": [],
   "source": [
    "import glob"
   ]
  },
  {
   "cell_type": "markdown",
   "metadata": {},
   "source": [
    "2.2. Specify path and filenames"
   ]
  },
  {
   "cell_type": "code",
   "execution_count": 10,
   "metadata": {},
   "outputs": [
    {
     "name": "stdout",
     "output_type": "stream",
     "text": [
      "['/Users/tetianayukhymenko/Documents/Code/IKEA/ikea_2021-02-04ua.csv', '/Users/tetianayukhymenko/Documents/Code/IKEA/ikea_2021-01-26hu.csv', '/Users/tetianayukhymenko/Documents/Code/IKEA/ikea_2021-02-04cz.csv', '/Users/tetianayukhymenko/Documents/Code/IKEA/ikea_2021-02-23pl.csv', '/Users/tetianayukhymenko/Documents/Code/IKEA/ikea_2021-01-26ro.csv', '/Users/tetianayukhymenko/Documents/Code/IKEA/ikea_2021-01-26sk.csv', '/Users/tetianayukhymenko/Documents/Code/IKEA/ikea_2021-02-12it.csv', '/Users/tetianayukhymenko/Documents/Code/IKEA/ikea_2021-02-23se.csv', '/Users/tetianayukhymenko/Documents/Code/IKEA/ikea_2021-02-04at.csv', '/Users/tetianayukhymenko/Documents/Code/IKEA/ikea_2021-02-12hu.csv', '/Users/tetianayukhymenko/Documents/Code/IKEA/ikea_2021-01-26it.csv', '/Users/tetianayukhymenko/Documents/Code/IKEA/ikea_2021-02-12sk.csv', '/Users/tetianayukhymenko/Documents/Code/IKEA/ikea_2021-02-12ro.csv', '/Users/tetianayukhymenko/Documents/Code/IKEA/ikea_2021-02-17hu.csv', '/Users/tetianayukhymenko/Documents/Code/IKEA/ikea_2021-02-23ua.csv', '/Users/tetianayukhymenko/Documents/Code/IKEA/ikea_2021-01-21it.csv', '/Users/tetianayukhymenko/Documents/Code/IKEA/ikea_2021-02-23cz.csv', '/Users/tetianayukhymenko/Documents/Code/IKEA/ikea_2021-02-17sk.csv', '/Users/tetianayukhymenko/Documents/Code/IKEA/ikea_2021-02-17ro.csv', '/Users/tetianayukhymenko/Documents/Code/IKEA/ikea_2021-02-04pl.csv', '/Users/tetianayukhymenko/Documents/Code/IKEA/ikea_2021-02-23at.csv', '/Users/tetianayukhymenko/Documents/Code/IKEA/ikea_2021-01-21ro.csv', '/Users/tetianayukhymenko/Documents/Code/IKEA/ikea_2021-01-21sk.csv', '/Users/tetianayukhymenko/Documents/Code/IKEA/ikea_2021-02-04se.csv', '/Users/tetianayukhymenko/Documents/Code/IKEA/ikea_2021-02-17it.csv', '/Users/tetianayukhymenko/Documents/Code/IKEA/ikea_2021-01-21hu.csv', '/Users/tetianayukhymenko/Documents/Code/IKEA/ikea_2021-02-04ro.csv', '/Users/tetianayukhymenko/Documents/Code/IKEA/ikea_2021-02-04sk.csv', '/Users/tetianayukhymenko/Documents/Code/IKEA/ikea_2021-01-21se.csv', '/Users/tetianayukhymenko/Documents/Code/IKEA/ikea_2021-02-17pl.csv', '/Users/tetianayukhymenko/Documents/Code/IKEA/ikea_2021-02-12at.csv', '/Users/tetianayukhymenko/Documents/Code/IKEA/ikea_2021-02-04hu.csv', '/Users/tetianayukhymenko/Documents/Code/IKEA/ikea_2021-01-26cz.csv', '/Users/tetianayukhymenko/Documents/Code/IKEA/ikea_2021-01-26ua.csv', '/Users/tetianayukhymenko/Documents/Code/IKEA/ikea_2021-02-04it.csv', '/Users/tetianayukhymenko/Documents/Code/IKEA/ikea_2021-02-12cz.csv', '/Users/tetianayukhymenko/Documents/Code/IKEA/ikea_2021-01-21pl.csv', '/Users/tetianayukhymenko/Documents/Code/IKEA/ikea_2021-01-26at.csv', '/Users/tetianayukhymenko/Documents/Code/IKEA/ikea_2021-02-12ua.csv', '/Users/tetianayukhymenko/Documents/Code/IKEA/ikea_2021-02-17se.csv', '/Users/tetianayukhymenko/Documents/Code/IKEA/ikea_2021-01-26pl.csv', '/Users/tetianayukhymenko/Documents/Code/IKEA/ikea_2021-02-23ro.csv', '/Users/tetianayukhymenko/Documents/Code/IKEA/ikea_2021-02-23sk.csv', '/Users/tetianayukhymenko/Documents/Code/IKEA/ikea_2021-01-21at.csv', '/Users/tetianayukhymenko/Documents/Code/IKEA/ikea_2021-02-17ua.csv', '/Users/tetianayukhymenko/Documents/Code/IKEA/ikea_2021-02-12se.csv', '/Users/tetianayukhymenko/Documents/Code/IKEA/ikea_2021-02-23hu.csv', '/Users/tetianayukhymenko/Documents/Code/IKEA/ikea_2021-02-17cz.csv', '/Users/tetianayukhymenko/Documents/Code/IKEA/ikea_2021-02-12pl.csv', '/Users/tetianayukhymenko/Documents/Code/IKEA/ikea_2021-02-23it.csv', '/Users/tetianayukhymenko/Documents/Code/IKEA/ikea_2021-01-21cz.csv', '/Users/tetianayukhymenko/Documents/Code/IKEA/ikea_2021-01-21ua.csv', '/Users/tetianayukhymenko/Documents/Code/IKEA/ikea_2021-01-26se.csv', '/Users/tetianayukhymenko/Documents/Code/IKEA/ikea_2021-02-17at.csv']\n"
     ]
    }
   ],
   "source": [
    "path = r'/Users/tetianayukhymenko/Documents/Code/IKEA' # use your path\n",
    "all_files = glob.glob(path + \"/*.csv\")\n",
    "print (all_files)"
   ]
  },
  {
   "cell_type": "markdown",
   "metadata": {},
   "source": [
    "2.3. Upload bunch of files and glue them into one dataframe"
   ]
  },
  {
   "cell_type": "code",
   "execution_count": 11,
   "metadata": {
    "scrolled": true
   },
   "outputs": [
    {
     "name": "stdout",
     "output_type": "stream",
     "text": [
      "           good_name  price     category_full                       category  \\\n",
      "0    HAMMARN ХАММАРН   2699             Ліжка                   Дивани-ліжка   \n",
      "1  KNOPPARP КНОППАРП   2699  Дивани та крісла  Дивани з текстильною оббивкою   \n",
      "2  FRIHETEN ФРІХЕТЕН  13999             Ліжка                   Дивани-ліжка   \n",
      "\n",
      "  category_int product_id      tax       date currency country  \n",
      "0        20874   90354327   449.83 2021-02-04      uah      UA  \n",
      "1        10668   10424621   449.83 2021-02-04      uah      UA  \n",
      "2        20874   39216754  2333.16 2021-02-04      uah      UA  \n",
      "               good_name  price category_full category category_int  \\\n",
      "0              SYMFONISK  34990           NaN      NaN        46194   \n",
      "1              SYMFONISK   2490           NaN      NaN        46194   \n",
      "2  SYMFONISK / SYMFONISK  36680           NaN      NaN        46194   \n",
      "\n",
      "  product_id      tax       date currency country  \n",
      "0   30435204  7438.82 2021-01-26      HUF      HU  \n",
      "1   10485742   529.37 2021-01-26      HUF      HU  \n",
      "2   69304570  7798.11 2021-01-26      HUF      HU  \n",
      "  good_name  price category_full category category_int product_id    tax  \\\n",
      "0   TRÅDFRI    299           NaN      NaN        36814   70429913  51.89   \n",
      "1   TRÅDFRI    179           NaN      NaN        36814   40467765  31.07   \n",
      "2   TRÅDFRI    299           NaN      NaN        16281   30443124  51.89   \n",
      "\n",
      "        date currency country  \n",
      "0 2021-02-04      CZK      CZ  \n",
      "1 2021-02-04      CZK      CZ  \n",
      "2 2021-02-04      CZK      CZ  \n",
      "  good_name  price category_full category category_int product_id   tax  \\\n",
      "0     GUNDE  29.00           NaN      NaN        25222   60217799  5.42   \n",
      "1     NISSE  39.99           NaN      NaN        25222   30115066  7.48   \n",
      "2      ADDE  39.00           NaN      NaN        25220   10219178  7.29   \n",
      "\n",
      "        date currency country  \n",
      "0 2021-02-23      PLN      PL  \n",
      "1 2021-02-23      PLN      PL  \n",
      "2 2021-02-23      PLN      PL  \n",
      "  good_name  price category_full category category_int product_id    tax  \\\n",
      "0   TRÅDFRI   59.9           NaN      NaN        16281   10460751   9.56   \n",
      "1   TRÅDFRI  139.9           NaN      NaN        16281   40337806  22.34   \n",
      "2   TRÅDFRI   49.9           NaN      NaN        36814   70429913   7.97   \n",
      "\n",
      "        date currency country  \n",
      "0 2021-01-26      RON      RO  \n",
      "1 2021-01-26      RON      RO  \n",
      "2 2021-01-26      RON      RO  \n",
      "               good_name   price category_full category category_int  \\\n",
      "0              SYMFONISK   99.90           NaN      NaN        46194   \n",
      "1  SYMFONISK / SYMFONISK  109.89           NaN      NaN        46194   \n",
      "2    SYMFONISK / TRÅDFRI   41.98           NaN      NaN        46194   \n",
      "\n",
      "  product_id    tax       date currency country  \n",
      "0   30435204  16.65 2021-01-26      EUR      SK  \n",
      "1   09304549  18.32 2021-01-26      EUR      SK  \n",
      "2   19319164   7.00 2021-01-26      EUR      SK  \n",
      "  good_name  price category_full category category_int product_id   tax  \\\n",
      "0     GUNDE   6.50           NaN      NaN        25222   60217799  1.17   \n",
      "1     NISSE   9.95           NaN      NaN        25222   30115066  1.79   \n",
      "2      ADDE   9.95           NaN      NaN        25220   10219178  1.79   \n",
      "\n",
      "        date currency country  \n",
      "0 2021-02-12      EUR      IT  \n",
      "1 2021-02-12      EUR      IT  \n",
      "2 2021-02-12      EUR      IT  \n",
      "  good_name   price category_full category category_int product_id    tax  \\\n",
      "0   HAMMARN   899.0           NaN      NaN        20874   90354327  179.8   \n",
      "1  FRIHETEN  3795.0           NaN      NaN        20874   49297561  759.0   \n",
      "2  FRIHETEN  4495.0           NaN      NaN        20874   80432081  899.0   \n",
      "\n",
      "        date currency country  \n",
      "0 2021-02-23      SEK      SE  \n",
      "1 2021-02-23      SEK      SE  \n",
      "2 2021-02-23      SEK      SE  \n",
      "  good_name  price category_full category category_int product_id   tax  \\\n",
      "0     GUNDE   6.50           NaN      NaN        25222   60217799  1.08   \n",
      "1     NISSE  19.99           NaN      NaN        25222   30115066  3.33   \n",
      "2      ADDE   9.99           NaN      NaN        25220   10219178  1.67   \n",
      "\n",
      "        date currency country  \n",
      "0 2021-02-04      EUR      AT  \n",
      "1 2021-02-04      EUR      AT  \n",
      "2 2021-02-04      EUR      AT  \n",
      "  good_name  price category_full category category_int product_id      tax  \\\n",
      "0   TRÅDFRI   2290           NaN      NaN        36814   40467765   486.85   \n",
      "1   TRÅDFRI   3490           NaN      NaN        16281   30443124   741.97   \n",
      "2   TRÅDFRI   9990           NaN      NaN        16281   40337806  2123.86   \n",
      "\n",
      "        date currency country  \n",
      "0 2021-02-12      HUF      HU  \n",
      "1 2021-02-12      HUF      HU  \n",
      "2 2021-02-12      HUF      HU  \n",
      "  good_name  price category_full category category_int product_id   tax  \\\n",
      "0     GUNDE   6.50           NaN      NaN        25222   60217799  1.17   \n",
      "1     NISSE   9.95           NaN      NaN        25222   30115066  1.79   \n",
      "2      ADDE   9.95           NaN      NaN        25220   10219178  1.79   \n",
      "\n",
      "        date currency country  \n",
      "0 2021-01-26      EUR      IT  \n",
      "1 2021-01-26      EUR      IT  \n",
      "2 2021-01-26      EUR      IT  \n",
      "  good_name  price category_full category category_int product_id   tax  \\\n",
      "0   TRÅDFRI   6.99           NaN      NaN        36814   40467765  1.17   \n",
      "1   TRÅDFRI  11.99           NaN      NaN        16281   10460751  2.00   \n",
      "2   TRÅDFRI   5.99           NaN      NaN        36814   00468432  1.00   \n",
      "\n",
      "        date currency country  \n",
      "0 2021-02-12      EUR      SK  \n",
      "1 2021-02-12      EUR      SK  \n",
      "2 2021-02-12      EUR      SK  \n",
      "  good_name  price category_full category category_int product_id   tax  \\\n",
      "0   TRÅDFRI   59.9           NaN      NaN        16281   10460751  9.56   \n",
      "1   TRÅDFRI   34.9           NaN      NaN        36814   40467765  5.57   \n",
      "2   TRÅDFRI   49.9           NaN      NaN        36814   90356166  7.97   \n",
      "\n",
      "        date currency country  \n",
      "0 2021-02-12      RON      RO  \n",
      "1 2021-02-12      RON      RO  \n",
      "2 2021-02-12      RON      RO  \n",
      "  good_name  price category_full category category_int product_id      tax  \\\n",
      "0   TRÅDFRI   2290           NaN      NaN        36814   40467765   486.85   \n",
      "1   TRÅDFRI   3490           NaN      NaN        16281   30443124   741.97   \n",
      "2   TRÅDFRI   9990           NaN      NaN        16281   40337806  2123.86   \n",
      "\n",
      "        date currency country  \n",
      "0 2021-02-17      HUF      HU  \n",
      "1 2021-02-17      HUF      HU  \n",
      "2 2021-02-17      HUF      HU  \n",
      "           good_name  price     category_full                       category  \\\n",
      "0    HAMMARN ХАММАРН   2699             Ліжка                   Дивани-ліжка   \n",
      "1  KNOPPARP КНОППАРП   2699  Дивани та крісла  Дивани з текстильною оббивкою   \n",
      "2  FRIHETEN ФРІХЕТЕН  13999             Ліжка                   Дивани-ліжка   \n",
      "\n",
      "  category_int product_id      tax       date currency country  \n",
      "0        20874   90354327   449.83 2021-02-23      uah      UA  \n",
      "1        10668   10424621   449.83 2021-02-23      uah      UA  \n",
      "2        20874   39216754  2333.16 2021-02-23      uah      UA  \n",
      "  good_name  price category_full category category_int product_id   tax  \\\n",
      "0     GUNDE   6.50           NaN      NaN        25222   60217799  1.17   \n",
      "1     NISSE   9.95           NaN      NaN        25222   30115066  1.79   \n",
      "2      ADDE   9.95           NaN      NaN        25220   10219178  1.79   \n",
      "\n",
      "        date currency country  \n",
      "0 2021-01-21      EUR      IT  \n",
      "1 2021-01-21      EUR      IT  \n",
      "2 2021-01-21      EUR      IT  \n",
      "  good_name  price category_full category category_int product_id    tax  \\\n",
      "0   TRÅDFRI    179           NaN      NaN        36814   40467765  31.07   \n",
      "1   TRÅDFRI    149           NaN      NaN        36814   00468432  25.86   \n",
      "2   TRÅDFRI    299           NaN      NaN        16281   30443124  51.89   \n",
      "\n",
      "        date currency country  \n",
      "0 2021-02-23      CZK      CZ  \n",
      "1 2021-02-23      CZK      CZ  \n",
      "2 2021-02-23      CZK      CZ  \n",
      "  good_name  price category_full category category_int product_id   tax  \\\n",
      "0   TRÅDFRI   6.99           NaN      NaN        36814   40467765  1.17   \n",
      "1   TRÅDFRI  11.99           NaN      NaN        16281   10460751  2.00   \n",
      "2   TRÅDFRI   9.99           NaN      NaN        36814   10400408  1.67   \n",
      "\n",
      "        date currency country  \n",
      "0 2021-02-17      EUR      SK  \n",
      "1 2021-02-17      EUR      SK  \n",
      "2 2021-02-17      EUR      SK  \n",
      "  good_name  price category_full category category_int product_id   tax  \\\n",
      "0   TRÅDFRI   34.9           NaN      NaN        36814   40467765  5.57   \n",
      "1   TRÅDFRI   59.9           NaN      NaN        16281   10460751  9.56   \n",
      "2   TRÅDFRI   49.9           NaN      NaN        36814   70429913  7.97   \n",
      "\n",
      "        date currency country  \n",
      "0 2021-02-17      RON      RO  \n",
      "1 2021-02-17      RON      RO  \n",
      "2 2021-02-17      RON      RO  \n",
      "  good_name  price category_full category category_int product_id   tax  \\\n",
      "0     GUNDE  29.00           NaN      NaN        25222   60217799  5.42   \n",
      "1     NISSE  39.99           NaN      NaN        25222   30115066  7.48   \n",
      "2      ADDE  39.00           NaN      NaN        25220   10219178  7.29   \n",
      "\n",
      "        date currency country  \n",
      "0 2021-02-04      PLN      PL  \n",
      "1 2021-02-04      PLN      PL  \n",
      "2 2021-02-04      PLN      PL  \n",
      "  good_name  price category_full category category_int product_id   tax  \\\n",
      "0     GUNDE   6.50           NaN      NaN        25222   60217799  1.08   \n",
      "1     NISSE  19.99           NaN      NaN        25222   30115066  3.33   \n",
      "2      ADDE   9.99           NaN      NaN        25220   10219178  1.67   \n",
      "\n",
      "        date currency country  \n",
      "0 2021-02-23      EUR      AT  \n",
      "1 2021-02-23      EUR      AT  \n",
      "2 2021-02-23      EUR      AT  \n",
      "  good_name  price category_full category category_int product_id    tax  \\\n",
      "0   TRÅDFRI   59.9           NaN      NaN        16281   10460751   9.56   \n",
      "1   TRÅDFRI  139.9           NaN      NaN        16281   40337806  22.34   \n",
      "2   TRÅDFRI   29.9           NaN      NaN        36814   00468432   4.77   \n",
      "\n",
      "        date currency country  \n",
      "0 2021-01-21      RON      RO  \n",
      "1 2021-01-21      RON      RO  \n",
      "2 2021-01-21      RON      RO  \n",
      "             good_name  price category_full category category_int product_id  \\\n",
      "0            SYMFONISK  99.90           NaN      NaN        46194   50357554   \n",
      "1  SYMFONISK / TRÅDFRI  41.98           NaN      NaN        46194   19319164   \n",
      "2            SYMFONISK  99.90           NaN      NaN        46194   30435204   \n",
      "\n",
      "     tax       date currency country  \n",
      "0  16.65 2021-01-21      EUR      SK  \n",
      "1   7.00 2021-01-21      EUR      SK  \n",
      "2  16.65 2021-01-21      EUR      SK  \n",
      "  good_name   price category_full category category_int product_id    tax  \\\n",
      "0   HAMMARN   899.0           NaN      NaN        20874   90354327  179.8   \n",
      "1  FRIHETEN  3795.0           NaN      NaN        20874   49297561  759.0   \n",
      "2  FRIHETEN  4495.0           NaN      NaN        20874   80432081  899.0   \n",
      "\n",
      "        date currency country  \n",
      "0 2021-02-04      SEK      SE  \n",
      "1 2021-02-04      SEK      SE  \n",
      "2 2021-02-04      SEK      SE  \n",
      "  good_name  price category_full category category_int product_id   tax  \\\n",
      "0     GUNDE   6.50           NaN      NaN        25222   60217799  1.17   \n",
      "1     NISSE   9.95           NaN      NaN        25222   30115066  1.79   \n",
      "2      ADDE   9.95           NaN      NaN        25220   10219178  1.79   \n",
      "\n",
      "        date currency country  \n",
      "0 2021-02-17      EUR      IT  \n",
      "1 2021-02-17      EUR      IT  \n",
      "2 2021-02-17      EUR      IT  \n",
      "               good_name  price category_full category category_int  \\\n",
      "0              SYMFONISK  34990           NaN      NaN        46194   \n",
      "1              SYMFONISK   2490           NaN      NaN        46194   \n",
      "2  SYMFONISK / SYMFONISK  36680           NaN      NaN        46194   \n",
      "\n",
      "  product_id      tax       date currency country  \n",
      "0   30435204  7438.82 2021-01-21      HUF      HU  \n",
      "1   60489950   529.37 2021-01-21      HUF      HU  \n",
      "2   69304570  7798.11 2021-01-21      HUF      HU  \n",
      "  good_name  price category_full category category_int product_id   tax  \\\n",
      "0   TRÅDFRI   59.9           NaN      NaN        16281   10460751  9.56   \n",
      "1   TRÅDFRI   49.9           NaN      NaN        36814   70429913  7.97   \n",
      "2   TRÅDFRI   29.9           NaN      NaN        36814   00468432  4.77   \n",
      "\n",
      "        date currency country  \n",
      "0 2021-02-04      RON      RO  \n",
      "1 2021-02-04      RON      RO  \n",
      "2 2021-02-04      RON      RO  \n",
      "  good_name  price category_full category category_int product_id   tax  \\\n",
      "0   TRÅDFRI  11.99           NaN      NaN        16281   10460751  2.00   \n",
      "1   TRÅDFRI   5.99           NaN      NaN        36814   00468432  1.00   \n",
      "2   TRÅDFRI   9.99           NaN      NaN        36814   20364476  1.67   \n",
      "\n",
      "        date currency country  \n",
      "0 2021-02-04      EUR      SK  \n",
      "1 2021-02-04      EUR      SK  \n",
      "2 2021-02-04      EUR      SK  \n",
      "  good_name   price category_full category category_int product_id    tax  \\\n",
      "0   HAMMARN   899.0           NaN      NaN        20874   90354327  179.8   \n",
      "1  FRIHETEN  3795.0           NaN      NaN        20874   49297561  759.0   \n",
      "2  FRIHETEN  4495.0           NaN      NaN        20874   80432081  899.0   \n",
      "\n",
      "        date currency country  \n",
      "0 2021-01-21      SEK      SE  \n",
      "1 2021-01-21      SEK      SE  \n",
      "2 2021-01-21      SEK      SE  \n",
      "  good_name  price category_full category category_int product_id   tax  \\\n",
      "0     GUNDE  29.00           NaN      NaN        25222   60217799  5.42   \n",
      "1     NISSE  39.99           NaN      NaN        25222   30115066  7.48   \n",
      "2      ADDE  39.00           NaN      NaN        25220   10219178  7.29   \n",
      "\n",
      "        date currency country  \n",
      "0 2021-02-17      PLN      PL  \n",
      "1 2021-02-17      PLN      PL  \n",
      "2 2021-02-17      PLN      PL  \n",
      "  good_name  price category_full category category_int product_id   tax  \\\n",
      "0     GUNDE   6.50           NaN      NaN        25222   60217799  1.08   \n",
      "1     NISSE  19.99           NaN      NaN        25222   30115066  3.33   \n",
      "2      ADDE   9.99           NaN      NaN        25220   10219178  1.67   \n",
      "\n",
      "        date currency country  \n",
      "0 2021-02-12      EUR      AT  \n",
      "1 2021-02-12      EUR      AT  \n",
      "2 2021-02-12      EUR      AT  \n"
     ]
    },
    {
     "name": "stdout",
     "output_type": "stream",
     "text": [
      "   good_name  price category_full category category_int product_id      tax  \\\n",
      "0  SYMFONISK  34990           NaN      NaN        46194   30435204  7438.82   \n",
      "1  SYMFONISK   2490           NaN      NaN        46194   10485742   529.37   \n",
      "2  SYMFONISK   3990           NaN      NaN        46194   40433780   848.27   \n",
      "\n",
      "        date currency country  \n",
      "0 2021-02-04      HUF      HU  \n",
      "1 2021-02-04      HUF      HU  \n",
      "2 2021-02-04      HUF      HU  \n",
      "   good_name  price category_full category category_int product_id    tax  \\\n",
      "0  HUVUDROLL     89           NaN      NaN        25213   20483592  11.61   \n",
      "1  HUVUDROLL    139           NaN      NaN        25213   70487795  18.13   \n",
      "2    KORVMOJ     75           NaN      NaN        25213   50447654   9.78   \n",
      "\n",
      "        date currency country  \n",
      "0 2021-01-26      CZK      CZ  \n",
      "1 2021-01-26      CZK      CZ  \n",
      "2 2021-01-26      CZK      CZ  \n",
      "                 good_name  price        category_full  \\\n",
      "0  VINTER 2020 ВІНТЕР 2020    149   Текстиль для стола   \n",
      "1  VINTER 2020 ВІНТЕР 2020    599   Текстиль для стола   \n",
      "2  VINTER 2020 ВІНТЕР 2020    119  Новорічний текстиль   \n",
      "\n",
      "                                            category category_int product_id  \\\n",
      "0                    Скатертини та доріжки для стола        20541   20472664   \n",
      "1                    Скатертини та доріжки для стола        20541   50472667   \n",
      "2                  VINTER 2020 ВІНТЕР 2020 Дитячи...        49152   30472418   \n",
      "\n",
      "     tax       date currency country  \n",
      "0  24.83 2021-01-26      uah      UA  \n",
      "1  99.83 2021-01-26      uah      UA  \n",
      "2  19.83 2021-01-26      uah      UA  \n",
      "  good_name  price category_full category category_int product_id   tax  \\\n",
      "0     GUNDE   6.50           NaN      NaN        25222   60217799  1.17   \n",
      "1     NISSE   9.95           NaN      NaN        25222   30115066  1.79   \n",
      "2      ADDE   9.95           NaN      NaN        25220   10219178  1.79   \n",
      "\n",
      "        date currency country  \n",
      "0 2021-02-04      EUR      IT  \n",
      "1 2021-02-04      EUR      IT  \n",
      "2 2021-02-04      EUR      IT  \n",
      "  good_name  price category_full category category_int product_id    tax  \\\n",
      "0   TRÅDFRI    179           NaN      NaN        36814   40467765  31.07   \n",
      "1   TRÅDFRI    149           NaN      NaN        36814   00468432  25.86   \n",
      "2   TRÅDFRI    299           NaN      NaN        16281   30443124  51.89   \n",
      "\n",
      "        date currency country  \n",
      "0 2021-02-12      CZK      CZ  \n",
      "1 2021-02-12      CZK      CZ  \n",
      "2 2021-02-12      CZK      CZ  \n",
      "  good_name  price category_full category category_int product_id   tax  \\\n",
      "0     GUNDE  29.00           NaN      NaN        25222   60217799  5.42   \n",
      "1     NISSE  39.99           NaN      NaN        25222   30115066  7.48   \n",
      "2      ADDE  39.00           NaN      NaN        25220   10219178  7.29   \n",
      "\n",
      "        date currency country  \n",
      "0 2021-01-21      PLN      PL  \n",
      "1 2021-01-21      PLN      PL  \n",
      "2 2021-01-21      PLN      PL  \n",
      "  good_name  price category_full category category_int product_id   tax  \\\n",
      "0     GUNDE   6.50           NaN      NaN        25222   60217799  1.08   \n",
      "1     NISSE  19.99           NaN      NaN        25222   30115066  3.33   \n",
      "2      ADDE   9.99           NaN      NaN        25220   10219178  1.67   \n",
      "\n",
      "        date currency country  \n",
      "0 2021-01-26      EUR      AT  \n",
      "1 2021-01-26      EUR      AT  \n",
      "2 2021-01-26      EUR      AT  \n",
      "           good_name  price     category_full                       category  \\\n",
      "0    HAMMARN ХАММАРН   2699             Ліжка                   Дивани-ліжка   \n",
      "1  KNOPPARP КНОППАРП   2699  Дивани та крісла  Дивани з текстильною оббивкою   \n",
      "2  FRIHETEN ФРІХЕТЕН  13999             Ліжка                   Дивани-ліжка   \n",
      "\n",
      "  category_int product_id      tax       date currency country  \n",
      "0        20874   90354327   449.83 2021-02-12      uah      UA  \n",
      "1        10668   10424621   449.83 2021-02-12      uah      UA  \n",
      "2        20874   39216754  2333.16 2021-02-12      uah      UA  \n",
      "  good_name   price category_full category category_int product_id    tax  \\\n",
      "0   HAMMARN   899.0           NaN      NaN        20874   90354327  179.8   \n",
      "1  FRIHETEN  3795.0           NaN      NaN        20874   49297561  759.0   \n",
      "2  FRIHETEN  4495.0           NaN      NaN        20874   80432081  899.0   \n",
      "\n",
      "        date currency country  \n",
      "0 2021-02-17      SEK      SE  \n",
      "1 2021-02-17      SEK      SE  \n",
      "2 2021-02-17      SEK      SE  \n",
      "  good_name  price category_full category category_int product_id   tax  \\\n",
      "0     GUNDE  29.00           NaN      NaN        25222   60217799  5.42   \n",
      "1     NISSE  39.99           NaN      NaN        25222   30115066  7.48   \n",
      "2      ADDE  39.00           NaN      NaN        25220   10219178  7.29   \n",
      "\n",
      "        date currency country  \n",
      "0 2021-01-26      PLN      PL  \n",
      "1 2021-01-26      PLN      PL  \n",
      "2 2021-01-26      PLN      PL  \n",
      "  good_name  price category_full category category_int product_id   tax  \\\n",
      "0   TRÅDFRI   34.9           NaN      NaN        36814   40467765  5.57   \n",
      "1   TRÅDFRI   29.9           NaN      NaN        36814   00468432  4.77   \n",
      "2   TRÅDFRI   59.9           NaN      NaN        16281   10460751  9.56   \n",
      "\n",
      "        date currency country  \n",
      "0 2021-02-23      RON      RO  \n",
      "1 2021-02-23      RON      RO  \n",
      "2 2021-02-23      RON      RO  \n",
      "  good_name  price category_full category category_int product_id   tax  \\\n",
      "0   TRÅDFRI   6.99           NaN      NaN        36814   40467765  1.17   \n",
      "1   TRÅDFRI  11.99           NaN      NaN        16281   10460751  2.00   \n",
      "2   TRÅDFRI   5.99           NaN      NaN        36814   00468432  1.00   \n",
      "\n",
      "        date currency country  \n",
      "0 2021-02-23      EUR      SK  \n",
      "1 2021-02-23      EUR      SK  \n",
      "2 2021-02-23      EUR      SK  \n",
      "  good_name  price category_full category category_int product_id   tax  \\\n",
      "0     GUNDE   6.50           NaN      NaN        25222   60217799  1.08   \n",
      "1     NISSE  19.99           NaN      NaN        25222   30115066  3.33   \n",
      "2      ADDE   9.99           NaN      NaN        25220   10219178  1.67   \n",
      "\n",
      "        date currency country  \n",
      "0 2021-01-21      EUR      AT  \n",
      "1 2021-01-21      EUR      AT  \n",
      "2 2021-01-21      EUR      AT  \n",
      "           good_name  price     category_full                       category  \\\n",
      "0    HAMMARN ХАММАРН   2699             Ліжка                   Дивани-ліжка   \n",
      "1  KNOPPARP КНОППАРП   2699  Дивани та крісла  Дивани з текстильною оббивкою   \n",
      "2  FRIHETEN ФРІХЕТЕН  13999             Ліжка                   Дивани-ліжка   \n",
      "\n",
      "  category_int product_id      tax       date currency country  \n",
      "0        20874   90354327   449.83 2021-02-17      uah      UA  \n",
      "1        10668   10424621   449.83 2021-02-17      uah      UA  \n",
      "2        20874   39216754  2333.16 2021-02-17      uah      UA  \n",
      "  good_name   price category_full category category_int product_id    tax  \\\n",
      "0   HAMMARN   899.0           NaN      NaN        20874   90354327  179.8   \n",
      "1  FRIHETEN  3795.0           NaN      NaN        20874   49297561  759.0   \n",
      "2  FRIHETEN  4495.0           NaN      NaN        20874   80432081  899.0   \n",
      "\n",
      "        date currency country  \n",
      "0 2021-02-12      SEK      SE  \n",
      "1 2021-02-12      SEK      SE  \n",
      "2 2021-02-12      SEK      SE  \n",
      "  good_name  price category_full category category_int product_id      tax  \\\n",
      "0   TRÅDFRI   2290           NaN      NaN        36814   40467765   486.85   \n",
      "1   TRÅDFRI   3490           NaN      NaN        16281   30443124   741.97   \n",
      "2   TRÅDFRI   9990           NaN      NaN        16281   40337806  2123.86   \n",
      "\n",
      "        date currency country  \n",
      "0 2021-02-23      HUF      HU  \n",
      "1 2021-02-23      HUF      HU  \n",
      "2 2021-02-23      HUF      HU  \n",
      "  good_name  price category_full category category_int product_id    tax  \\\n",
      "0   TRÅDFRI    179           NaN      NaN        36814   40467765  31.07   \n",
      "1   TRÅDFRI    149           NaN      NaN        36814   00468432  25.86   \n",
      "2   TRÅDFRI    299           NaN      NaN        16281   30443124  51.89   \n",
      "\n",
      "        date currency country  \n",
      "0 2021-02-17      CZK      CZ  \n",
      "1 2021-02-17      CZK      CZ  \n",
      "2 2021-02-17      CZK      CZ  \n",
      "  good_name  price category_full category category_int product_id   tax  \\\n",
      "0     GUNDE  29.00           NaN      NaN        25222   60217799  5.42   \n",
      "1     NISSE  39.99           NaN      NaN        25222   30115066  7.48   \n",
      "2      ADDE  39.00           NaN      NaN        25220   10219178  7.29   \n",
      "\n",
      "        date currency country  \n",
      "0 2021-02-12      PLN      PL  \n",
      "1 2021-02-12      PLN      PL  \n",
      "2 2021-02-12      PLN      PL  \n",
      "  good_name  price category_full category category_int product_id   tax  \\\n",
      "0     GUNDE   6.50           NaN      NaN        25222   60217799  1.17   \n",
      "1     NISSE   9.95           NaN      NaN        25222   30115066  1.79   \n",
      "2      ADDE   9.95           NaN      NaN        25220   10219178  1.79   \n",
      "\n",
      "        date currency country  \n",
      "0 2021-02-23      EUR      IT  \n",
      "1 2021-02-23      EUR      IT  \n",
      "2 2021-02-23      EUR      IT  \n",
      "   good_name  price category_full category category_int product_id    tax  \\\n",
      "0  HUVUDROLL     89           NaN      NaN        25213   20483592  11.61   \n",
      "1  HUVUDROLL    139           NaN      NaN        25213   70487795  18.13   \n",
      "2    KORVMOJ     75           NaN      NaN        25213   50447654   9.78   \n",
      "\n",
      "        date currency country  \n",
      "0 2021-01-21      CZK      CZ  \n",
      "1 2021-01-21      CZK      CZ  \n",
      "2 2021-01-21      CZK      CZ  \n",
      "                 good_name  price        category_full  \\\n",
      "0  VINTER 2020 ВІНТЕР 2020    149   Текстиль для стола   \n",
      "1  VINTER 2020 ВІНТЕР 2020    599   Текстиль для стола   \n",
      "2  VINTER 2020 ВІНТЕР 2020    149  Новорічний текстиль   \n",
      "\n",
      "                                 category category_int product_id    tax  \\\n",
      "0         Скатертини та доріжки для стола        20541   20472664  24.83   \n",
      "1         Скатертини та доріжки для стола        20541   50472667  99.83   \n",
      "2  VINTER 2020 ВІНТЕР 2020 Дитячий фартух        49152   00472245  24.83   \n",
      "\n",
      "        date currency country  \n",
      "0 2021-01-21      uah      UA  \n",
      "1 2021-01-21      uah      UA  \n",
      "2 2021-01-21      uah      UA  \n",
      "  good_name   price category_full category category_int product_id    tax  \\\n",
      "0   HAMMARN   899.0           NaN      NaN        20874   90354327  179.8   \n",
      "1  FRIHETEN  3795.0           NaN      NaN        20874   49297561  759.0   \n",
      "2  FRIHETEN  4495.0           NaN      NaN        20874   80432081  899.0   \n",
      "\n",
      "        date currency country  \n",
      "0 2021-01-26      SEK      SE  \n",
      "1 2021-01-26      SEK      SE  \n",
      "2 2021-01-26      SEK      SE  \n",
      "  good_name  price category_full category category_int product_id   tax  \\\n",
      "0     GUNDE   6.50           NaN      NaN        25222   60217799  1.08   \n",
      "1     NISSE  19.99           NaN      NaN        25222   30115066  3.33   \n",
      "2      ADDE   9.99           NaN      NaN        25220   10219178  1.67   \n",
      "\n",
      "        date currency country  \n",
      "0 2021-02-17      EUR      AT  \n",
      "1 2021-02-17      EUR      AT  \n",
      "2 2021-02-17      EUR      AT  \n"
     ]
    }
   ],
   "source": [
    "li = [] #list of dataframes that will be concatenated. Should be empty at first and will expand with for loop\n",
    "\n",
    "for filename in all_files:\n",
    "    #insert code from 1.3\n",
    "    df = pd.read_csv(filename, index_col=False, header=0, delimiter=';',dtype='object')\n",
    "    df.date=pd.to_datetime(df.date, errors='coerce') #converts object to date\n",
    "    df.price = pd.to_numeric(df.price,errors='coerce') #converts object to numbers\n",
    "    df.tax = pd.to_numeric(df.tax,errors='coerce') #converts object to numbers\n",
    "    print (df.head(3))\n",
    "    li.append(df)\n",
    "frame = pd.concat(li, axis=0, ignore_index=True) #concatenate list of dataframes"
   ]
  },
  {
   "cell_type": "markdown",
   "metadata": {},
   "source": [
    "Check if everything is fine"
   ]
  },
  {
   "cell_type": "code",
   "execution_count": 12,
   "metadata": {},
   "outputs": [
    {
     "name": "stdout",
     "output_type": "stream",
     "text": [
      "<class 'pandas.core.frame.DataFrame'>\n",
      "RangeIndex: 200187 entries, 0 to 200186\n",
      "Data columns (total 10 columns):\n",
      " #   Column         Non-Null Count   Dtype         \n",
      "---  ------         --------------   -----         \n",
      " 0   good_name      200187 non-null  object        \n",
      " 1   price          200187 non-null  float64       \n",
      " 2   category_full  15908 non-null   object        \n",
      " 3   category       15908 non-null   object        \n",
      " 4   category_int   200187 non-null  object        \n",
      " 5   product_id     200187 non-null  object        \n",
      " 6   tax            200187 non-null  float64       \n",
      " 7   date           200187 non-null  datetime64[ns]\n",
      " 8   currency       200187 non-null  object        \n",
      " 9   country        200187 non-null  object        \n",
      "dtypes: datetime64[ns](1), float64(2), object(7)\n",
      "memory usage: 15.3+ MB\n",
      "None\n",
      "           good_name    price     category_full  \\\n",
      "0    HAMMARN ХАММАРН   2699.0             Ліжка   \n",
      "1  KNOPPARP КНОППАРП   2699.0  Дивани та крісла   \n",
      "2  FRIHETEN ФРІХЕТЕН  13999.0             Ліжка   \n",
      "3        KIVIK КІВІК  10999.0  Дивани та крісла   \n",
      "4    KLIPPAN КЛІППАН   6199.0  Дивани та крісла   \n",
      "\n",
      "                        category category_int product_id      tax       date  \\\n",
      "0                   Дивани-ліжка        20874   90354327   449.83 2021-02-04   \n",
      "1  Дивани з текстильною оббивкою        10668   10424621   449.83 2021-02-04   \n",
      "2                   Дивани-ліжка        20874   39216754  2333.16 2021-02-04   \n",
      "3  Дивани з текстильною оббивкою        10670   99011429  1833.17 2021-02-04   \n",
      "4  Дивани з текстильною оббивкою        10668   09251777  1033.17 2021-02-04   \n",
      "\n",
      "  currency country  \n",
      "0      uah      UA  \n",
      "1      uah      UA  \n",
      "2      uah      UA  \n",
      "3      uah      UA  \n",
      "4      uah      UA  \n"
     ]
    }
   ],
   "source": [
    "print (frame.info())\n",
    "print (frame.head(5))"
   ]
  },
  {
   "cell_type": "markdown",
   "metadata": {},
   "source": [
    "# 3. Merge dataframes"
   ]
  },
  {
   "cell_type": "markdown",
   "metadata": {},
   "source": [
    "3.1. pandas.DataFrame.merge merge dataframes or named Series objects with a database-style join. \n",
    "Type of merge to be performed: {‘left’, ‘right’, ‘outer’, ‘inner’, ‘cross’}, default ‘inner’"
   ]
  },
  {
   "cell_type": "markdown",
   "metadata": {},
   "source": [
    "1) Inner join: use intersection of keys from both frames, similar to a SQL inner join; preserve the order of the left keys."
   ]
  },
  {
   "cell_type": "code",
   "execution_count": 13,
   "metadata": {},
   "outputs": [
    {
     "name": "stdout",
     "output_type": "stream",
     "text": [
      "         good_name   price category_full      category category_int  \\\n",
      "0  HAMMARN ХАММАРН  2699.0         Ліжка  Дивани-ліжка        20874   \n",
      "1  HAMMARN ХАММАРН  2699.0         Ліжка  Дивани-ліжка        20874   \n",
      "2  HAMMARN ХАММАРН  2699.0         Ліжка  Дивани-ліжка        20874   \n",
      "\n",
      "  product_id     tax     date_x currency country     date_y   ER  \n",
      "0   90354327  449.83 2021-02-04      uah      UA 2021-01-21  1.0  \n",
      "1   90354327  449.83 2021-02-04      uah      UA 2021-01-26  1.0  \n",
      "2   90354327  449.83 2021-02-04      uah      UA 2021-02-04  1.0  \n",
      "<class 'pandas.core.frame.DataFrame'>\n",
      "Int64Index: 1201122 entries, 0 to 1201121\n",
      "Data columns (total 12 columns):\n",
      " #   Column         Non-Null Count    Dtype         \n",
      "---  ------         --------------    -----         \n",
      " 0   good_name      1201122 non-null  object        \n",
      " 1   price          1201122 non-null  float64       \n",
      " 2   category_full  95448 non-null    object        \n",
      " 3   category       95448 non-null    object        \n",
      " 4   category_int   1201122 non-null  object        \n",
      " 5   product_id     1201122 non-null  object        \n",
      " 6   tax            1201122 non-null  float64       \n",
      " 7   date_x         1201122 non-null  datetime64[ns]\n",
      " 8   currency       1201122 non-null  object        \n",
      " 9   country        1201122 non-null  object        \n",
      " 10  date_y         1201122 non-null  datetime64[ns]\n",
      " 11  ER             1201122 non-null  float64       \n",
      "dtypes: datetime64[ns](2), float64(3), object(7)\n",
      "memory usage: 119.1+ MB\n",
      "None\n"
     ]
    }
   ],
   "source": [
    "inner=pd.merge(left=frame, right=er, how='inner', left_on='currency', right_on='currency')\n",
    "print (inner.head(3))\n",
    "print (inner.info())"
   ]
  },
  {
   "cell_type": "markdown",
   "metadata": {},
   "source": [
    "2) Left: use only keys from left frame, similar to a SQL left outer join; preserve key order."
   ]
  },
  {
   "cell_type": "code",
   "execution_count": 15,
   "metadata": {},
   "outputs": [
    {
     "name": "stdout",
     "output_type": "stream",
     "text": [
      "         good_name   price category_full      category category_int  \\\n",
      "0  HAMMARN ХАММАРН  2699.0         Ліжка  Дивани-ліжка        20874   \n",
      "1  HAMMARN ХАММАРН  2699.0         Ліжка  Дивани-ліжка        20874   \n",
      "2  HAMMARN ХАММАРН  2699.0         Ліжка  Дивани-ліжка        20874   \n",
      "\n",
      "  product_id     tax     date_x currency country     date_y   ER  \n",
      "0   90354327  449.83 2021-02-04      uah      UA 2021-01-21  1.0  \n",
      "1   90354327  449.83 2021-02-04      uah      UA 2021-01-26  1.0  \n",
      "2   90354327  449.83 2021-02-04      uah      UA 2021-02-04  1.0  \n",
      "<class 'pandas.core.frame.DataFrame'>\n",
      "Int64Index: 1201122 entries, 0 to 1201121\n",
      "Data columns (total 12 columns):\n",
      " #   Column         Non-Null Count    Dtype         \n",
      "---  ------         --------------    -----         \n",
      " 0   good_name      1201122 non-null  object        \n",
      " 1   price          1201122 non-null  float64       \n",
      " 2   category_full  95448 non-null    object        \n",
      " 3   category       95448 non-null    object        \n",
      " 4   category_int   1201122 non-null  object        \n",
      " 5   product_id     1201122 non-null  object        \n",
      " 6   tax            1201122 non-null  float64       \n",
      " 7   date_x         1201122 non-null  datetime64[ns]\n",
      " 8   currency       1201122 non-null  object        \n",
      " 9   country        1201122 non-null  object        \n",
      " 10  date_y         1201122 non-null  datetime64[ns]\n",
      " 11  ER             1201122 non-null  float64       \n",
      "dtypes: datetime64[ns](2), float64(3), object(7)\n",
      "memory usage: 119.1+ MB\n",
      "None\n"
     ]
    }
   ],
   "source": [
    "left=pd.merge(left=frame, right=er, how='left', left_on='currency', right_on='currency')\n",
    "print (left.head(3))\n",
    "print (left.info())"
   ]
  },
  {
   "cell_type": "markdown",
   "metadata": {},
   "source": [
    "3) Right: use only keys from right frame, similar to a SQL right outer join; preserve key order."
   ]
  },
  {
   "cell_type": "code",
   "execution_count": 16,
   "metadata": {},
   "outputs": [
    {
     "name": "stdout",
     "output_type": "stream",
     "text": [
      "  good_name  price category_full category category_int product_id    tax  \\\n",
      "0   TRÅDFRI  299.0           NaN      NaN        36814   70429913  51.89   \n",
      "1   TRÅDFRI  179.0           NaN      NaN        36814   40467765  31.07   \n",
      "2   TRÅDFRI  299.0           NaN      NaN        16281   30443124  51.89   \n",
      "\n",
      "      date_x currency country     date_y      ER  \n",
      "0 2021-02-04      CZK      CZ 2021-01-21  1.3071  \n",
      "1 2021-02-04      CZK      CZ 2021-01-21  1.3071  \n",
      "2 2021-02-04      CZK      CZ 2021-01-21  1.3071  \n",
      "<class 'pandas.core.frame.DataFrame'>\n",
      "Int64Index: 1201128 entries, 0 to 1201127\n",
      "Data columns (total 12 columns):\n",
      " #   Column         Non-Null Count    Dtype         \n",
      "---  ------         --------------    -----         \n",
      " 0   good_name      1201122 non-null  object        \n",
      " 1   price          1201122 non-null  float64       \n",
      " 2   category_full  95448 non-null    object        \n",
      " 3   category       95448 non-null    object        \n",
      " 4   category_int   1201122 non-null  object        \n",
      " 5   product_id     1201122 non-null  object        \n",
      " 6   tax            1201122 non-null  float64       \n",
      " 7   date_x         1201122 non-null  datetime64[ns]\n",
      " 8   currency       1201128 non-null  object        \n",
      " 9   country        1201122 non-null  object        \n",
      " 10  date_y         1201128 non-null  datetime64[ns]\n",
      " 11  ER             1201128 non-null  float64       \n",
      "dtypes: datetime64[ns](2), float64(3), object(7)\n",
      "memory usage: 119.1+ MB\n",
      "None\n"
     ]
    }
   ],
   "source": [
    "right=pd.merge(left=frame, right=er, how='right', left_on='currency', right_on='currency')\n",
    "print (right.head(3))\n",
    "print (right.info())"
   ]
  },
  {
   "cell_type": "markdown",
   "metadata": {},
   "source": [
    "4) Outer: use union of keys from both frames, similar to a SQL full outer join; sort keys lexicographically."
   ]
  },
  {
   "cell_type": "code",
   "execution_count": 17,
   "metadata": {},
   "outputs": [
    {
     "name": "stdout",
     "output_type": "stream",
     "text": [
      "         good_name   price category_full      category category_int  \\\n",
      "0  HAMMARN ХАММАРН  2699.0         Ліжка  Дивани-ліжка        20874   \n",
      "1  HAMMARN ХАММАРН  2699.0         Ліжка  Дивани-ліжка        20874   \n",
      "2  HAMMARN ХАММАРН  2699.0         Ліжка  Дивани-ліжка        20874   \n",
      "\n",
      "  product_id     tax     date_x currency country     date_y   ER  \n",
      "0   90354327  449.83 2021-02-04      uah      UA 2021-01-21  1.0  \n",
      "1   90354327  449.83 2021-02-04      uah      UA 2021-01-26  1.0  \n",
      "2   90354327  449.83 2021-02-04      uah      UA 2021-02-04  1.0  \n",
      "<class 'pandas.core.frame.DataFrame'>\n",
      "Int64Index: 1201128 entries, 0 to 1201127\n",
      "Data columns (total 12 columns):\n",
      " #   Column         Non-Null Count    Dtype         \n",
      "---  ------         --------------    -----         \n",
      " 0   good_name      1201122 non-null  object        \n",
      " 1   price          1201122 non-null  float64       \n",
      " 2   category_full  95448 non-null    object        \n",
      " 3   category       95448 non-null    object        \n",
      " 4   category_int   1201122 non-null  object        \n",
      " 5   product_id     1201122 non-null  object        \n",
      " 6   tax            1201122 non-null  float64       \n",
      " 7   date_x         1201122 non-null  datetime64[ns]\n",
      " 8   currency       1201128 non-null  object        \n",
      " 9   country        1201122 non-null  object        \n",
      " 10  date_y         1201128 non-null  datetime64[ns]\n",
      " 11  ER             1201128 non-null  float64       \n",
      "dtypes: datetime64[ns](2), float64(3), object(7)\n",
      "memory usage: 119.1+ MB\n",
      "None\n"
     ]
    }
   ],
   "source": [
    "outer=pd.merge(left=frame, right=er, how='outer', left_on='currency', right_on='currency')\n",
    "print (outer.head(3))\n",
    "print (outer.info())"
   ]
  },
  {
   "cell_type": "markdown",
   "metadata": {},
   "source": [
    "3.2. Merge on few columns"
   ]
  },
  {
   "cell_type": "code",
   "execution_count": 18,
   "metadata": {},
   "outputs": [
    {
     "name": "stdout",
     "output_type": "stream",
     "text": [
      "           good_name    price     category_full  \\\n",
      "0    HAMMARN ХАММАРН   2699.0             Ліжка   \n",
      "1  KNOPPARP КНОППАРП   2699.0  Дивани та крісла   \n",
      "2  FRIHETEN ФРІХЕТЕН  13999.0             Ліжка   \n",
      "\n",
      "                        category category_int product_id      tax       date  \\\n",
      "0                   Дивани-ліжка        20874   90354327   449.83 2021-02-04   \n",
      "1  Дивани з текстильною оббивкою        10668   10424621   449.83 2021-02-04   \n",
      "2                   Дивани-ліжка        20874   39216754  2333.16 2021-02-04   \n",
      "\n",
      "  currency country   ER  \n",
      "0      uah      UA  1.0  \n",
      "1      uah      UA  1.0  \n",
      "2      uah      UA  1.0  \n",
      "<class 'pandas.core.frame.DataFrame'>\n",
      "Int64Index: 200187 entries, 0 to 200186\n",
      "Data columns (total 11 columns):\n",
      " #   Column         Non-Null Count   Dtype         \n",
      "---  ------         --------------   -----         \n",
      " 0   good_name      200187 non-null  object        \n",
      " 1   price          200187 non-null  float64       \n",
      " 2   category_full  15908 non-null   object        \n",
      " 3   category       15908 non-null   object        \n",
      " 4   category_int   200187 non-null  object        \n",
      " 5   product_id     200187 non-null  object        \n",
      " 6   tax            200187 non-null  float64       \n",
      " 7   date           200187 non-null  datetime64[ns]\n",
      " 8   currency       200187 non-null  object        \n",
      " 9   country        200187 non-null  object        \n",
      " 10  ER             200187 non-null  float64       \n",
      "dtypes: datetime64[ns](1), float64(3), object(7)\n",
      "memory usage: 18.3+ MB\n",
      "None\n"
     ]
    }
   ],
   "source": [
    "df=pd.merge(left=frame, right=er, how='left', left_on=['currency','date'], right_on=['currency','date'])\n",
    "print (df.head(3))\n",
    "print (df.info())"
   ]
  },
  {
   "cell_type": "markdown",
   "metadata": {},
   "source": [
    "3.3. Merge part of dataframe"
   ]
  },
  {
   "cell_type": "code",
   "execution_count": 19,
   "metadata": {},
   "outputs": [
    {
     "name": "stdout",
     "output_type": "stream",
     "text": [
      "  product_id    price      tax category_int       date currency country   ER\n",
      "0   90354327   2699.0   449.83        20874 2021-02-04      uah      UA  1.0\n",
      "1   10424621   2699.0   449.83        10668 2021-02-04      uah      UA  1.0\n",
      "2   39216754  13999.0  2333.16        20874 2021-02-04      uah      UA  1.0\n",
      "<class 'pandas.core.frame.DataFrame'>\n",
      "Int64Index: 200187 entries, 0 to 200186\n",
      "Data columns (total 8 columns):\n",
      " #   Column        Non-Null Count   Dtype         \n",
      "---  ------        --------------   -----         \n",
      " 0   product_id    200187 non-null  object        \n",
      " 1   price         200187 non-null  float64       \n",
      " 2   tax           200187 non-null  float64       \n",
      " 3   category_int  200187 non-null  object        \n",
      " 4   date          200187 non-null  datetime64[ns]\n",
      " 5   currency      200187 non-null  object        \n",
      " 6   country       200187 non-null  object        \n",
      " 7   ER            200187 non-null  float64       \n",
      "dtypes: datetime64[ns](1), float64(3), object(4)\n",
      "memory usage: 13.7+ MB\n",
      "None\n"
     ]
    }
   ],
   "source": [
    "df=pd.merge(left=frame[['product_id','price','tax','category_int','date','currency','country']], right=er, how='left', left_on=['currency','date'], right_on=['currency','date'])\n",
    "print (df.head(3))\n",
    "print (df.info())"
   ]
  },
  {
   "cell_type": "markdown",
   "metadata": {},
   "source": [
    "# 4. Calculations"
   ]
  },
  {
   "cell_type": "markdown",
   "metadata": {},
   "source": [
    "4.1. Creating new column based on values from other columns"
   ]
  },
  {
   "cell_type": "code",
   "execution_count": 20,
   "metadata": {},
   "outputs": [
    {
     "name": "stdout",
     "output_type": "stream",
     "text": [
      "  product_id    price      tax category_int       date currency country   ER  \\\n",
      "0   90354327   2699.0   449.83        20874 2021-02-04      uah      UA  1.0   \n",
      "1   10424621   2699.0   449.83        10668 2021-02-04      uah      UA  1.0   \n",
      "2   39216754  13999.0  2333.16        20874 2021-02-04      uah      UA  1.0   \n",
      "\n",
      "   price_uah  tax_uah  tax_share  \n",
      "0     2699.0   449.83   0.166665  \n",
      "1     2699.0   449.83   0.166665  \n",
      "2    13999.0  2333.16   0.166666  \n",
      "<class 'pandas.core.frame.DataFrame'>\n",
      "Int64Index: 200187 entries, 0 to 200186\n",
      "Data columns (total 11 columns):\n",
      " #   Column        Non-Null Count   Dtype         \n",
      "---  ------        --------------   -----         \n",
      " 0   product_id    200187 non-null  object        \n",
      " 1   price         200187 non-null  float64       \n",
      " 2   tax           200187 non-null  float64       \n",
      " 3   category_int  200187 non-null  object        \n",
      " 4   date          200187 non-null  datetime64[ns]\n",
      " 5   currency      200187 non-null  object        \n",
      " 6   country       200187 non-null  object        \n",
      " 7   ER            200187 non-null  float64       \n",
      " 8   price_uah     200187 non-null  float64       \n",
      " 9   tax_uah       200187 non-null  float64       \n",
      " 10  tax_share     200187 non-null  float64       \n",
      "dtypes: datetime64[ns](1), float64(6), object(4)\n",
      "memory usage: 18.3+ MB\n",
      "None\n"
     ]
    }
   ],
   "source": [
    "df['price_uah']=df['price']*df['ER']\n",
    "df['tax_uah']=df['tax']*df['ER']\n",
    "df['tax_share']=df['tax']/df['price']\n",
    "print (df.head(3))\n",
    "print (df.info())"
   ]
  },
  {
   "cell_type": "markdown",
   "metadata": {},
   "source": [
    "4.2. Add columns with another date format"
   ]
  },
  {
   "cell_type": "code",
   "execution_count": 21,
   "metadata": {},
   "outputs": [
    {
     "name": "stdout",
     "output_type": "stream",
     "text": [
      "  product_id    price      tax category_int       date currency country   ER  \\\n",
      "0   90354327   2699.0   449.83        20874 2021-02-04      uah      UA  1.0   \n",
      "1   10424621   2699.0   449.83        10668 2021-02-04      uah      UA  1.0   \n",
      "2   39216754  13999.0  2333.16        20874 2021-02-04      uah      UA  1.0   \n",
      "\n",
      "   price_uah  tax_uah  tax_share year_mon year_week  \n",
      "0     2699.0   449.83   0.166665  2021M02   2021W05  \n",
      "1     2699.0   449.83   0.166665  2021M02   2021W05  \n",
      "2    13999.0  2333.16   0.166666  2021M02   2021W05  \n",
      "<class 'pandas.core.frame.DataFrame'>\n",
      "Int64Index: 200187 entries, 0 to 200186\n",
      "Data columns (total 13 columns):\n",
      " #   Column        Non-Null Count   Dtype         \n",
      "---  ------        --------------   -----         \n",
      " 0   product_id    200187 non-null  object        \n",
      " 1   price         200187 non-null  float64       \n",
      " 2   tax           200187 non-null  float64       \n",
      " 3   category_int  200187 non-null  object        \n",
      " 4   date          200187 non-null  datetime64[ns]\n",
      " 5   currency      200187 non-null  object        \n",
      " 6   country       200187 non-null  object        \n",
      " 7   ER            200187 non-null  float64       \n",
      " 8   price_uah     200187 non-null  float64       \n",
      " 9   tax_uah       200187 non-null  float64       \n",
      " 10  tax_share     200187 non-null  float64       \n",
      " 11  year_mon      200187 non-null  object        \n",
      " 12  year_week     200187 non-null  object        \n",
      "dtypes: datetime64[ns](1), float64(6), object(6)\n",
      "memory usage: 21.4+ MB\n",
      "None\n"
     ]
    }
   ],
   "source": [
    "df['year_mon']=df['date'].dt.to_period('m').dt.strftime('%YM%m') #convert to months\n",
    "df['year_week']=df['date'].dt.to_period('U').dt.strftime('%YW%U') #convert to weeks\n",
    "print (df.head(3))\n",
    "print (df.info())"
   ]
  },
  {
   "cell_type": "markdown",
   "metadata": {},
   "source": [
    "4.3. Compute data characteristics"
   ]
  },
  {
   "cell_type": "code",
   "execution_count": 22,
   "metadata": {},
   "outputs": [
    {
     "name": "stdout",
     "output_type": "stream",
     "text": [
      "min:  0.0\n",
      "max:  0.22222222222222224\n",
      "mean:  0.17727804528648147\n",
      "median:  0.17355444305381726\n"
     ]
    }
   ],
   "source": [
    "print ('min: ',df['tax_share'].min())\n",
    "print ('max: ',df['tax_share'].max())\n",
    "print ('mean: ',df['tax_share'].mean())\n",
    "print ('median: ',df['tax_share'].median())"
   ]
  },
  {
   "cell_type": "markdown",
   "metadata": {},
   "source": [
    "4.4. Find rows based on column value"
   ]
  },
  {
   "cell_type": "code",
   "execution_count": 23,
   "metadata": {},
   "outputs": [
    {
     "name": "stdout",
     "output_type": "stream",
     "text": [
      "       product_id    price  tax category_int       date currency country  \\\n",
      "76965    59385982    79.98  0.0        10731 2021-02-23      EUR      AT   \n",
      "107763   49390031  6485.00  0.0        46079 2021-01-21      SEK      SE   \n",
      "114309   59385982    79.98  0.0        10731 2021-02-12      EUR      AT   \n",
      "198364   59385982    79.98  0.0        10731 2021-02-17      EUR      AT   \n",
      "\n",
      "             ER     price_uah  tax_uah  tax_share year_mon year_week  \n",
      "76965   33.8866   2710.250268      0.0        0.0  2021M02   2021W08  \n",
      "107763   3.3686  21845.371000      0.0        0.0  2021M01   2021W03  \n",
      "114309  33.8111   2704.211778      0.0        0.0  2021M02   2021W06  \n",
      "198364  33.7708   2700.988584      0.0        0.0  2021M02   2021W07  \n"
     ]
    }
   ],
   "source": [
    "print(df.loc[df['tax_share'] == 0])"
   ]
  },
  {
   "cell_type": "code",
   "execution_count": 24,
   "metadata": {},
   "outputs": [
    {
     "name": "stdout",
     "output_type": "stream",
     "text": [
      "       product_id  price   tax category_int       date currency country  \\\n",
      "20600    80469970   0.09  0.02        45851 2021-01-26      EUR      SK   \n",
      "43955    80469970   0.09  0.02        45851 2021-02-12      EUR      SK   \n",
      "65881    80469970   0.09  0.02        45851 2021-02-17      EUR      SK   \n",
      "85135    80469970   0.09  0.02        45851 2021-01-21      EUR      SK   \n",
      "103869   80469970   0.09  0.02        45851 2021-02-04      EUR      SK   \n",
      "158713   80469970   0.09  0.02        45851 2021-02-23      EUR      SK   \n",
      "\n",
      "             ER  price_uah   tax_uah  tax_share year_mon year_week  \n",
      "20600   34.2265   3.080385  0.684530   0.222222  2021M01   2021W04  \n",
      "43955   33.8111   3.042999  0.676222   0.222222  2021M02   2021W06  \n",
      "65881   33.7708   3.039372  0.675416   0.222222  2021M02   2021W07  \n",
      "85135   34.1488   3.073392  0.682976   0.222222  2021M01   2021W03  \n",
      "103869  33.6374   3.027366  0.672748   0.222222  2021M02   2021W05  \n",
      "158713  33.8866   3.049794  0.677732   0.222222  2021M02   2021W08  \n"
     ]
    }
   ],
   "source": [
    "print(df.loc[df['tax_share'] > 0.22])"
   ]
  },
  {
   "cell_type": "markdown",
   "metadata": {},
   "source": [
    "4.5. Replace values"
   ]
  },
  {
   "cell_type": "code",
   "execution_count": 27,
   "metadata": {},
   "outputs": [
    {
     "name": "stdout",
     "output_type": "stream",
     "text": [
      "  product_id    price      tax category_int       date currency country   ER  \\\n",
      "0   90354327   2699.0   449.83        20874 2021-02-04      UAH      UA  1.0   \n",
      "1   10424621   2699.0   449.83        10668 2021-02-04      UAH      UA  1.0   \n",
      "2   39216754  13999.0  2333.16        20874 2021-02-04      UAH      UA  1.0   \n",
      "3   99011429  10999.0  1833.17        10670 2021-02-04      UAH      UA  1.0   \n",
      "4   09251777   6199.0  1033.17        10668 2021-02-04      UAH      UA  1.0   \n",
      "\n",
      "   price_uah  tax_uah  tax_share year_mon year_week  \n",
      "0     2699.0   449.83   0.166665  2021M02   2021W05  \n",
      "1     2699.0   449.83   0.166665  2021M02   2021W05  \n",
      "2    13999.0  2333.16   0.166666  2021M02   2021W05  \n",
      "3    10999.0  1833.17   0.166667  2021M02   2021W05  \n",
      "4     6199.0  1033.17   0.166667  2021M02   2021W05  \n"
     ]
    }
   ],
   "source": [
    "df[\"currency\"].replace({\"uah\": \"UAH\"}, inplace=True)\n",
    "print(df.head())"
   ]
  },
  {
   "cell_type": "markdown",
   "metadata": {},
   "source": [
    "# 5. Group values and pivot tables"
   ]
  },
  {
   "cell_type": "markdown",
   "metadata": {},
   "source": [
    "5.1. Group values"
   ]
  },
  {
   "cell_type": "code",
   "execution_count": 28,
   "metadata": {},
   "outputs": [
    {
     "name": "stdout",
     "output_type": "stream",
     "text": [
      "currency  country\n",
      "CZK       CZ         22209\n",
      "EUR       AT         23272\n",
      "          IT         24849\n",
      "          SK         22022\n",
      "HUF       HU         22157\n",
      "PLN       PL         23088\n",
      "RON       RO         23278\n",
      "SEK       SE         23404\n",
      "UAH       UA         15908\n",
      "dtype: int64\n"
     ]
    }
   ],
   "source": [
    "countries=df.groupby(['currency','country']).size() #select unique values of columns, size() counts number of rows\n",
    "print (countries)"
   ]
  },
  {
   "cell_type": "markdown",
   "metadata": {},
   "source": [
    "5.2. Compute some values"
   ]
  },
  {
   "cell_type": "code",
   "execution_count": 29,
   "metadata": {},
   "outputs": [
    {
     "name": "stdout",
     "output_type": "stream",
     "text": [
      "                    price_uah  tax_share\n",
      "currency country                        \n",
      "CZK      CZ       1863.786916   0.171436\n",
      "EUR      AT       2252.482946   0.163149\n",
      "         IT       2269.622883   0.176938\n",
      "         SK       1791.477613   0.166998\n",
      "HUF      HU       1686.926177   0.211671\n",
      "PLN      PL       1810.154585   0.180850\n",
      "RON      RO       1820.633241   0.155449\n",
      "SEK      SE       2552.447321   0.199602\n",
      "UAH      UA       1570.016281   0.166876\n"
     ]
    }
   ],
   "source": [
    "countries_mean=df.groupby(['currency','country'])[['price_uah','tax_share']].mean() #() indicates grouping conditions, [] indicates values\n",
    "print (countries_mean)"
   ]
  },
  {
   "cell_type": "markdown",
   "metadata": {},
   "source": [
    "5.3. Pivot table"
   ]
  },
  {
   "cell_type": "code",
   "execution_count": 30,
   "metadata": {},
   "outputs": [
    {
     "name": "stdout",
     "output_type": "stream",
     "text": [
      "                         mean                                         \\\n",
      "                    price_uah                                          \n",
      "year_week             2021W03      2021W04      2021W05      2021W06   \n",
      "currency country                                                       \n",
      "CZK      CZ       1749.238839  1774.517619  1785.259644  1809.999173   \n",
      "EUR      AT       2174.903046  2197.602742  2075.800244  2141.853767   \n",
      "         IT       2113.568585  2131.026969  2232.577090  2273.510601   \n",
      "         SK       1798.885367  1794.893351  1748.530948  1728.208049   \n",
      "HUF      HU       1643.974876  1638.902152  1604.582378  1655.435326   \n",
      "PLN      PL       1651.392615  1679.162354  1739.775691  1762.965366   \n",
      "RON      RO       1769.597327  1766.475117  1756.208186  1773.422096   \n",
      "SEK      SE       2429.239117  2449.738033  2524.469008  2558.784768   \n",
      "UAH      UA       1536.965415  1541.648568  1555.580670  1593.655212   \n",
      "\n",
      "                                            \n",
      "                                            \n",
      "year_week             2021W07      2021W08  \n",
      "currency country                            \n",
      "CZK      CZ       1797.413079  2203.645479  \n",
      "EUR      AT       2189.865649  2668.843224  \n",
      "         IT       2294.861956  2531.940962  \n",
      "         SK       1694.206447  1961.870921  \n",
      "HUF      HU       1631.952548  1907.920428  \n",
      "PLN      PL       1814.451677  2143.068688  \n",
      "RON      RO       1759.461407  2062.378009  \n",
      "SEK      SE       2588.592856  2732.094631  \n",
      "UAH      UA       1591.894158  1601.565546  \n"
     ]
    }
   ],
   "source": [
    "df_pivot=pd.pivot_table(df, index=[\"currency\", \"country\"], values=[\"price_uah\"],\n",
    "               columns=['year_week'], aggfunc=[np.mean])\n",
    "print (df_pivot)"
   ]
  },
  {
   "cell_type": "code",
   "execution_count": 31,
   "metadata": {},
   "outputs": [
    {
     "name": "stdout",
     "output_type": "stream",
     "text": [
      "                          mean                median              \\\n",
      "                         price    price_uah    price   price_uah   \n",
      "currency country                                                   \n",
      "CZK      CZ        1425.351524  1863.786916   299.00  390.763100   \n",
      "EUR      AT          66.417049  2252.482946    14.99  506.828389   \n",
      "         IT          66.938143  2269.622883    18.95  639.110600   \n",
      "         SK          52.826246  1791.477613    10.99  376.149235   \n",
      "HUF      HU       17791.314934  1686.926177  3990.00  375.742290   \n",
      "PLN      PL         240.680178  1810.154585    49.99  376.654654   \n",
      "RON      RO         261.703267  1820.633241    50.00  350.362870   \n",
      "SEK      SE         758.755258  2552.447321   199.00  667.465900   \n",
      "UAH      UA        1570.016281  1570.016281   379.00  379.000000   \n",
      "\n",
      "                           std               \n",
      "                         price    price_uah  \n",
      "currency country                             \n",
      "CZK      CZ        2896.680649  3787.480178  \n",
      "EUR      AT         128.380215  4354.255310  \n",
      "         IT         123.587075  4188.891445  \n",
      "         SK         104.374502  3539.575148  \n",
      "HUF      HU       34308.069897  3252.136529  \n",
      "PLN      PL         425.816920  3202.475286  \n",
      "RON      RO         540.800645  3762.499684  \n",
      "SEK      SE        1452.723256  4885.453986  \n",
      "UAH      UA        3055.602606  3055.602606  \n"
     ]
    }
   ],
   "source": [
    "df_pivot_stats=pd.pivot_table(df, index=[\"currency\", \"country\"], values=[\"price\",\"price_uah\"],\n",
    "               columns=[], aggfunc=[np.mean, np.median, np.std])\n",
    "print (df_pivot_stats)"
   ]
  },
  {
   "cell_type": "markdown",
   "metadata": {},
   "source": [
    "5.4. Add filter on dataframe"
   ]
  },
  {
   "cell_type": "code",
   "execution_count": 32,
   "metadata": {},
   "outputs": [
    {
     "name": "stdout",
     "output_type": "stream",
     "text": [
      "                       mean             \n",
      "                      price    price_uah\n",
      "currency country                        \n",
      "EUR      AT       66.417049  2252.482946\n",
      "         IT       66.938143  2269.622883\n",
      "         SK       52.826246  1791.477613\n"
     ]
    }
   ],
   "source": [
    "df_pivot_f1=pd.pivot_table(df[df.currency=='EUR'], index=[\"currency\", \"country\"], values=[\"price\",\"price_uah\"],\n",
    "               columns=[], aggfunc=[np.mean])\n",
    "print (df_pivot_f1)"
   ]
  },
  {
   "cell_type": "markdown",
   "metadata": {},
   "source": [
    "5.5. To add few filters use \"&\" operator"
   ]
  },
  {
   "cell_type": "code",
   "execution_count": 33,
   "metadata": {},
   "outputs": [
    {
     "name": "stdout",
     "output_type": "stream",
     "text": [
      "                       mean             \n",
      "                      price    price_uah\n",
      "currency country                        \n",
      "EUR      AT        1.154681    39.148651\n",
      "         IT       69.222207  2347.065788\n",
      "         SK        0.944750    32.034066\n"
     ]
    }
   ],
   "source": [
    "df_pivot_f2=pd.pivot_table(df[(df.currency=='EUR')&(df.tax_share>0.17)], index=[\"currency\", \"country\"], values=[\"price\",\"price_uah\"],\n",
    "               columns=[], aggfunc=[np.mean])\n",
    "print (df_pivot_f2)"
   ]
  },
  {
   "cell_type": "markdown",
   "metadata": {},
   "source": [
    "5.6. Price changes"
   ]
  },
  {
   "cell_type": "code",
   "execution_count": 34,
   "metadata": {},
   "outputs": [
    {
     "name": "stdout",
     "output_type": "stream",
     "text": [
      "                      mean                                        \n",
      "                     price                                        \n",
      "year_week          2021W03 2021W04 2021W05 2021W06 2021W07 2021W08\n",
      "country product_id                                                \n",
      "AT      00028508       4.0     4.0     4.0     4.0     4.0     4.0\n",
      "        00058487     149.0   149.0   149.0   149.0   149.0   149.0\n",
      "        00089163       4.0     4.0     4.0     4.0     4.0     4.0\n",
      "        00100467       NaN     NaN     1.0     1.0     1.0     1.0\n",
      "        00105064     179.0   179.0   179.0   179.0   179.0   179.0\n",
      "...                    ...     ...     ...     ...     ...     ...\n",
      "UA      99338427       NaN     NaN   401.0     NaN     NaN     NaN\n",
      "        99338597       NaN     NaN  2150.0  2150.0  2150.0     NaN\n",
      "        99385961    5606.0  5606.0  5606.0  5606.0  5606.0     NaN\n",
      "        99394437       NaN     NaN     NaN     NaN     NaN  2100.0\n",
      "        99417429     117.0   117.0   117.0   117.0   117.0   117.0\n",
      "\n",
      "[29937 rows x 6 columns]\n"
     ]
    }
   ],
   "source": [
    "prices=pd.pivot_table(df, index=[\"country\", 'product_id'], values=[\"price\"],\n",
    "               columns=['year_week'], aggfunc=[np.mean])\n",
    "print (prices)"
   ]
  },
  {
   "cell_type": "code",
   "execution_count": 35,
   "metadata": {},
   "outputs": [
    {
     "name": "stdout",
     "output_type": "stream",
     "text": [
      "      country product_id  2021W03  2021W04  2021W05  2021W06  2021W07  2021W08\n",
      "0          AT   00028508      4.0      4.0      4.0      4.0      4.0      4.0\n",
      "1          AT   00058487    149.0    149.0    149.0    149.0    149.0    149.0\n",
      "2          AT   00089163      4.0      4.0      4.0      4.0      4.0      4.0\n",
      "3          AT   00100467      NaN      NaN      1.0      1.0      1.0      1.0\n",
      "4          AT   00105064    179.0    179.0    179.0    179.0    179.0    179.0\n",
      "...       ...        ...      ...      ...      ...      ...      ...      ...\n",
      "29932      UA   99338427      NaN      NaN    401.0      NaN      NaN      NaN\n",
      "29933      UA   99338597      NaN      NaN   2150.0   2150.0   2150.0      NaN\n",
      "29934      UA   99385961   5606.0   5606.0   5606.0   5606.0   5606.0      NaN\n",
      "29935      UA   99394437      NaN      NaN      NaN      NaN      NaN   2100.0\n",
      "29936      UA   99417429    117.0    117.0    117.0    117.0    117.0    117.0\n",
      "\n",
      "[29937 rows x 8 columns]\n"
     ]
    }
   ],
   "source": [
    "prices.reset_index(inplace=True)\n",
    "prices.columns.name = None\n",
    "prices.index.name = None\n",
    "prices.columns = ['country', 'product_id','2021W03','2021W04','2021W05','2021W06','2021W07','2021W08']\n",
    "print (prices)"
   ]
  },
  {
   "cell_type": "code",
   "execution_count": 36,
   "metadata": {},
   "outputs": [
    {
     "name": "stdout",
     "output_type": "stream",
     "text": [
      "      country product_id  2021W03  2021W04  2021W05  2021W06  2021W07  \\\n",
      "0          AT   00028508      4.0      4.0      4.0      4.0      4.0   \n",
      "1          AT   00058487    149.0    149.0    149.0    149.0    149.0   \n",
      "2          AT   00089163      4.0      4.0      4.0      4.0      4.0   \n",
      "3          AT   00100467      NaN      NaN      1.0      1.0      1.0   \n",
      "4          AT   00105064    179.0    179.0    179.0    179.0    179.0   \n",
      "...       ...        ...      ...      ...      ...      ...      ...   \n",
      "29932      UA   99338427      NaN      NaN    401.0      NaN      NaN   \n",
      "29933      UA   99338597      NaN      NaN   2150.0   2150.0   2150.0   \n",
      "29934      UA   99385961   5606.0   5606.0   5606.0   5606.0   5606.0   \n",
      "29935      UA   99394437      NaN      NaN      NaN      NaN      NaN   \n",
      "29936      UA   99417429    117.0    117.0    117.0    117.0    117.0   \n",
      "\n",
      "       2021W08  change_2021W04  \n",
      "0          4.0             1.0  \n",
      "1        149.0             1.0  \n",
      "2          4.0             1.0  \n",
      "3          1.0             NaN  \n",
      "4        179.0             1.0  \n",
      "...        ...             ...  \n",
      "29932      NaN             NaN  \n",
      "29933      NaN             NaN  \n",
      "29934      NaN             1.0  \n",
      "29935   2100.0             NaN  \n",
      "29936    117.0             1.0  \n",
      "\n",
      "[29937 rows x 9 columns]\n"
     ]
    }
   ],
   "source": [
    "prices['change_2021W04']=prices['2021W04']/prices['2021W03']\n",
    "print (prices)"
   ]
  },
  {
   "cell_type": "code",
   "execution_count": 37,
   "metadata": {},
   "outputs": [
    {
     "name": "stdout",
     "output_type": "stream",
     "text": [
      "         change_2021W04\n",
      "country                \n",
      "AT             0.992969\n",
      "CZ             0.979244\n",
      "HU             1.000000\n",
      "IT             1.000000\n",
      "PL             1.000000\n",
      "RO             1.000000\n",
      "SE             1.004647\n",
      "SK             1.000000\n",
      "UA             1.000000\n"
     ]
    }
   ],
   "source": [
    "price_change=prices.groupby(['country'])[['change_2021W04']].mean() #() indicates grouping conditions, [] indicates values\n",
    "print (price_change)"
   ]
  },
  {
   "cell_type": "code",
   "execution_count": 38,
   "metadata": {},
   "outputs": [
    {
     "name": "stdout",
     "output_type": "stream",
     "text": [
      "0 2021W03 2021W04\n",
      "1 2021W04 2021W05\n",
      "2 2021W05 2021W06\n",
      "3 2021W06 2021W07\n",
      "4 2021W07 2021W08\n",
      "  country product_id  2021W03  2021W04  2021W05  2021W06  2021W07  2021W08  \\\n",
      "0      AT   00028508      4.0      4.0      4.0      4.0      4.0      4.0   \n",
      "1      AT   00058487    149.0    149.0    149.0    149.0    149.0    149.0   \n",
      "2      AT   00089163      4.0      4.0      4.0      4.0      4.0      4.0   \n",
      "3      AT   00100467      NaN      NaN      1.0      1.0      1.0      1.0   \n",
      "4      AT   00105064    179.0    179.0    179.0    179.0    179.0    179.0   \n",
      "\n",
      "   change_2021W04  change_2021W05  change_2021W06  change_2021W07  \\\n",
      "0           100.0           100.0           100.0           100.0   \n",
      "1           100.0           100.0           100.0           100.0   \n",
      "2           100.0           100.0           100.0           100.0   \n",
      "3             NaN             NaN           100.0           100.0   \n",
      "4           100.0           100.0           100.0           100.0   \n",
      "\n",
      "   change_2021W08  \n",
      "0           100.0  \n",
      "1           100.0  \n",
      "2           100.0  \n",
      "3           100.0  \n",
      "4           100.0  \n"
     ]
    }
   ],
   "source": [
    "dates = ['2021W03','2021W04','2021W05','2021W06','2021W07','2021W08']\n",
    "for d in range (0,5):\n",
    "    print (d, dates[d], dates[d+1])\n",
    "    prices['change_'+str(dates[d+1])] = prices[dates[d+1]] / prices[dates[d]] * 100\n",
    "print (prices.head())"
   ]
  },
  {
   "cell_type": "code",
   "execution_count": 39,
   "metadata": {},
   "outputs": [
    {
     "name": "stdout",
     "output_type": "stream",
     "text": [
      "         change_2021W04  change_2021W05  change_2021W06  change_2021W07  \\\n",
      "country                                                                   \n",
      "AT            99.296890      100.107701      101.460564       99.818419   \n",
      "CZ            97.924385       99.959767      100.000000       99.987220   \n",
      "HU           100.000000       99.901648      100.004426      100.000000   \n",
      "IT           100.000000      100.167932       99.990760      100.075302   \n",
      "PL           100.000000       99.945598      100.000001      100.000000   \n",
      "RO           100.000000       99.942567       99.990314      100.044673   \n",
      "SE           100.464697      100.563546      100.000000       99.966473   \n",
      "SK           100.000000      100.093660      100.010619      100.039023   \n",
      "UA           100.000000      100.000000      100.000000      100.000000   \n",
      "\n",
      "         change_2021W08  \n",
      "country                  \n",
      "AT           100.000000  \n",
      "CZ           100.002896  \n",
      "HU            99.977274  \n",
      "IT           100.000000  \n",
      "PL            99.895979  \n",
      "RO            99.986949  \n",
      "SE           100.000000  \n",
      "SK            99.998006  \n",
      "UA           100.000000  \n"
     ]
    }
   ],
   "source": [
    "price_change=prices.groupby(['country'])[['change_2021W04','change_2021W05','change_2021W06','change_2021W07','change_2021W08']].mean() #() indicates grouping conditions, [] indicates values\n",
    "print (price_change)"
   ]
  },
  {
   "cell_type": "markdown",
   "metadata": {},
   "source": [
    "# 6. Data export"
   ]
  },
  {
   "cell_type": "markdown",
   "metadata": {},
   "source": [
    "6.1. Export to excel"
   ]
  },
  {
   "cell_type": "code",
   "execution_count": 40,
   "metadata": {},
   "outputs": [],
   "source": [
    "price_change.to_excel('/Users/tetianayukhymenko/Documents/Code/price_change.xlsx')"
   ]
  },
  {
   "cell_type": "markdown",
   "metadata": {},
   "source": [
    "6.2. Export to csv"
   ]
  },
  {
   "cell_type": "code",
   "execution_count": 41,
   "metadata": {},
   "outputs": [],
   "source": [
    "price_change.to_csv('/Users/tetianayukhymenko/Documents/Code/price_change.csv',header=True,sep=',')"
   ]
  },
  {
   "cell_type": "code",
   "execution_count": null,
   "metadata": {},
   "outputs": [],
   "source": []
  }
 ],
 "metadata": {
  "kernelspec": {
   "display_name": "Python 3",
   "language": "python",
   "name": "python3"
  },
  "language_info": {
   "codemirror_mode": {
    "name": "ipython",
    "version": 3
   },
   "file_extension": ".py",
   "mimetype": "text/x-python",
   "name": "python",
   "nbconvert_exporter": "python",
   "pygments_lexer": "ipython3",
   "version": "3.8.8"
  }
 },
 "nbformat": 4,
 "nbformat_minor": 4
}
